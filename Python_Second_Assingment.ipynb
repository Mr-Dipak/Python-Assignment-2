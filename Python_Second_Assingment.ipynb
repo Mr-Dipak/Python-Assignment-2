{
  "nbformat": 4,
  "nbformat_minor": 0,
  "metadata": {
    "colab": {
      "provenance": [],
      "authorship_tag": "ABX9TyODDXpmiDQgSh5mK2OzW9gz",
      "include_colab_link": true
    },
    "kernelspec": {
      "name": "python3",
      "display_name": "Python 3"
    },
    "language_info": {
      "name": "python"
    }
  },
  "cells": [
    {
      "cell_type": "markdown",
      "metadata": {
        "id": "view-in-github",
        "colab_type": "text"
      },
      "source": [
        "<a href=\"https://colab.research.google.com/github/Mr-Dipak/Python-Assignment-2/blob/main/Python_Second_Assingment.ipynb\" target=\"_parent\"><img src=\"https://colab.research.google.com/assets/colab-badge.svg\" alt=\"Open In Colab\"/></a>"
      ]
    },
    {
      "cell_type": "code",
      "execution_count": null,
      "metadata": {
        "colab": {
          "base_uri": "https://localhost:8080/"
        },
        "id": "N2nKqNpsXNQt",
        "outputId": "dc4a9997-b8b8-4aad-a70c-4a7099163cb8"
      },
      "outputs": [
        {
          "output_type": "stream",
          "name": "stdout",
          "text": [
            "Please Enter your fasting sugar level: 12\n",
            "your fasting sugar level is low\n"
          ]
        }
      ],
      "source": [
        "'''\n",
        "Q1. Write a python program that can tell you if your sugar is normal or not.\n",
        "Normal fasting level sugar range is 80 to 100.\n",
        "Ask user to enter his fasting sugar level\n",
        "If it is below 80 to 100 range then print that sugar is low\n",
        "If it is above 100 then print that it is high otherwise print that it is normal\n",
        "\n",
        "-------------------------------------------------------------------------------\n",
        "\n",
        "https://github.com/Mr-Dipak/Python-Assignment-2\n",
        "\n",
        "'''\n",
        "\n",
        "fsl = int(input(\"Please Enter your fasting sugar level: \"))\n",
        "if (fsl >= 80 and fsl <=100):\n",
        "    print(\"your fasting sugar level is normal\")\n",
        "\n",
        "elif fsl < 80:\n",
        "    print(\"your fasting sugar level is low\")\n",
        "\n",
        "else:\n",
        "    print (\"your fasting sugar level is high\")"
      ]
    },
    {
      "cell_type": "code",
      "source": [
        "\"\"\"\n",
        "Q 2. After flipping a coin 10 times you got this result,\n",
        "result = [\"heads\",\"tails\",\"tails\",\"heads\",\"tails\",\"heads\",\"heads\",\"tails\",\"tails\",\"tails\"]\n",
        "\n",
        "Using for loop figure out how many times you got heads\n",
        "-------------------------------------------------------------------------------\n",
        "\n",
        "https://github.com/Mr-Dipak/Python-Assignment-2\n",
        "\n",
        "\n",
        "\"\"\"\n",
        "coin_result = [\"heads\",\"tails\",\"tails\",\"heads\",\"tails\",\"heads\",\"heads\",\"tails\",\"tails\",\"tails\"]\n",
        "\n",
        "head_count = 0\n",
        "\n",
        "for outcome in coin_result:\n",
        "    if  outcome == \"heads\":\n",
        "        head_count= head_count +1\n",
        "\n",
        "\n",
        "print(head_count)\n"
      ],
      "metadata": {
        "colab": {
          "base_uri": "https://localhost:8080/"
        },
        "id": "z9WufzEsXiWU",
        "outputId": "8937c0ca-38e9-4d05-d0ef-d6240a46c24b"
      },
      "execution_count": null,
      "outputs": [
        {
          "output_type": "stream",
          "name": "stdout",
          "text": [
            "4\n"
          ]
        }
      ]
    },
    {
      "cell_type": "code",
      "source": [
        "\"\"\"\n",
        "Q 3. Print square of all numbers between 1 to 10 except even numbers\n",
        "\n",
        "-------------------------------------------------------------------------------\n",
        "\n",
        "https://github.com/Mr-Dipak/Python-Assignment-2\n",
        "\n",
        "\n",
        "\"\"\"\n",
        "\n",
        "nums = [1,2,3,4,5,6,7,8,9,10]\n",
        "\n",
        "squir_num = 0\n",
        "\n",
        "for num in nums:\n",
        "    if num %2 != 0:\n",
        "        squir_num = num*num\n",
        "        print(squir_num)\n",
        "\n"
      ],
      "metadata": {
        "colab": {
          "base_uri": "https://localhost:8080/"
        },
        "id": "EynfV8T3Xpqr",
        "outputId": "22e319e2-3696-4b89-ae15-45b1aec244bb"
      },
      "execution_count": null,
      "outputs": [
        {
          "output_type": "stream",
          "name": "stdout",
          "text": [
            "1\n",
            "9\n",
            "25\n",
            "49\n",
            "81\n"
          ]
        }
      ]
    },
    {
      "cell_type": "code",
      "source": [
        "\"\"\"\n",
        "Q 4. Your monthly expense list (from Jan to May) looks like this,\n",
        "\n",
        "expense_list = [2340, 2500, 2100, 3100, 2980]\n",
        "\n",
        "Write a program that asks you to enter an expense amount and program should tell you in which month that expense occurred.\n",
        "If expense is not found then it should print that as well.\n",
        "\n",
        "-------------------------------------------------------------------------------\n",
        "\n",
        "https://github.com/Mr-Dipak/Python-Assignment-2\n",
        "\n",
        "\"\"\"\n",
        "\n",
        "n = int(input(\"Enter expense amount: \"))\n",
        "\n",
        "expense_list = [2340, 2500, 2100, 3100, 2980]\n",
        "\n",
        "month_index = None\n",
        "\n",
        "for i, expense in enumerate(expense_list):\n",
        "    if (expense == n):\n",
        "        month_index = i\n",
        "        break\n",
        "\n",
        "if month_index is not None:\n",
        "    print(f\"The expense {n} is occured in month {month_index+1}.\")\n",
        "else:\n",
        "    print(f\"The expense {n} is not occured in any month\")\n"
      ],
      "metadata": {
        "colab": {
          "base_uri": "https://localhost:8080/"
        },
        "id": "2gQJAD9tXudA",
        "outputId": "0ab07766-71be-4036-9f31-147121bd42ca"
      },
      "execution_count": null,
      "outputs": [
        {
          "output_type": "stream",
          "name": "stdout",
          "text": [
            "Enter expense amount: 2500\n",
            "The expense 2500 is occured in month 2.\n"
          ]
        }
      ]
    },
    {
      "cell_type": "code",
      "source": [
        "\"\"\"\n",
        "Q 5. Lets say you are running a 5 km race. Write a program that,\n",
        " 1. Upon completing each 1 km asks you \"are you tired?\"\n",
        " 2. If you reply \"yes\" then it should break and print \"you didn't finish the race\"\n",
        " 3. If you reply \"no\" then it should continue and ask \"are you tired\" on every km\n",
        "\n",
        " -------------------------------------------------------------------------------\n",
        "\n",
        "https://github.com/Mr-Dipak/Python-Assignment-2\n",
        "\n",
        "\"\"\"\n",
        "\n",
        "\n",
        "def is_tired():\n",
        "    ans = input(\"Are you tired ?: \")\n",
        "\n",
        "    return ans.lower() == \"yes\"\n",
        "\n",
        "for distance in range(1,6):\n",
        "    if is_tired():\n",
        "        print(\"You did't finish the race.\")\n",
        "        break\n",
        "    else:\n",
        "        print(f\"You have completed {distance} km.\")\n",
        "    if distance == 5:\n",
        "        print(\"You finished the rece. Congratulations!...... \")"
      ],
      "metadata": {
        "colab": {
          "base_uri": "https://localhost:8080/"
        },
        "id": "ud847E02YUgU",
        "outputId": "0d172b97-af79-4bec-c84a-5da2baf0f84f"
      },
      "execution_count": null,
      "outputs": [
        {
          "output_type": "stream",
          "name": "stdout",
          "text": [
            "Are you tired ?: no\n",
            "You have completed 1 km.\n",
            "Are you tired ?: no\n",
            "You have completed 2 km.\n",
            "Are you tired ?: no\n",
            "You have completed 3 km.\n",
            "Are you tired ?: no\n",
            "You have completed 4 km.\n",
            "Are you tired ?: no\n",
            "You have completed 5 km.\n",
            "You finished the rece. Congratulations!...... \n"
          ]
        }
      ]
    },
    {
      "cell_type": "code",
      "source": [
        "\"\"\"\n",
        "6. Write a program that prints following shape\n",
        "\n",
        " *\n",
        " **\n",
        " ***\n",
        " ****\n",
        " *****\n",
        "\n",
        " -------------------------------------------------------------------------------\n",
        "\n",
        "https://github.com/Mr-Dipak/Python-Assignment-2\n",
        "\n",
        "\n",
        "\"\"\"\n",
        "\n",
        "for i in range(1,6):\n",
        "    for j in range(i):\n",
        "        print(\"*\", end = \"\")\n",
        "    print()\n"
      ],
      "metadata": {
        "colab": {
          "base_uri": "https://localhost:8080/"
        },
        "id": "V67ybYddYhZM",
        "outputId": "2c7821b0-97fb-4b21-de01-26db4799c633"
      },
      "execution_count": null,
      "outputs": [
        {
          "output_type": "stream",
          "name": "stdout",
          "text": [
            "*\n",
            "**\n",
            "***\n",
            "****\n",
            "*****\n"
          ]
        }
      ]
    },
    {
      "cell_type": "code",
      "source": [
        "\"\"\"\n",
        "Q 7. Write a Python program to make a simple arithmetic calculator.\n",
        "\n",
        "Problem Statement:\n",
        "We need to write a Python program that accepts two numbers and an arithmetic operator from the user and performs the arithmetic operation on\n",
        "those two numbers.\n",
        "\n",
        "-------------------------------------------------------------------------------\n",
        "\n",
        "https://github.com/Mr-Dipak/Python-Assignment-2\n",
        "\n",
        "\"\"\"\n",
        "\n",
        "def arithmetic_calculator(a, b, operator):\n",
        "\n",
        "    if operator == \"+\":\n",
        "        sum = a + b\n",
        "        return sum\n",
        "    elif operator == \"-\":\n",
        "        subtract = a - b\n",
        "        return subtract\n",
        "    elif operator == \"*\":\n",
        "        multiplay  = a * b\n",
        "        return multiplay\n",
        "    elif operator == \"/\":\n",
        "        if b != 0:\n",
        "            divide = a / b\n",
        "            return divide\n",
        "        else:\n",
        "            return \"Error: Division by zero is undefined.\"\n",
        "\n",
        "\n",
        "\n",
        "num1 = int(input(\"Enter First Number: \"))\n",
        "num2 = int(input(\"Enter Second Number: \"))\n",
        "operator = input(\"Enter Operator ( +, -, *, /): \" )\n",
        "\n",
        "result = arithmetic_calculator(num1, num2, operator)\n",
        "print(result)\n",
        "\n"
      ],
      "metadata": {
        "colab": {
          "base_uri": "https://localhost:8080/"
        },
        "id": "5akRrODBYk7D",
        "outputId": "ae6e0607-d8ba-4b04-9f65-89ea80f7abfc"
      },
      "execution_count": null,
      "outputs": [
        {
          "output_type": "stream",
          "name": "stdout",
          "text": [
            "Enter First Number: 10\n",
            "Enter Second Number: 10\n",
            "Enter Operator ( +, -, *, /): /\n",
            "1.0\n"
          ]
        }
      ]
    },
    {
      "cell_type": "code",
      "source": [
        "\"\"\"\n",
        "\n",
        "Q 9. Write a Python program to print all the prime numbers between two intervals\n",
        "Problem Statement You need to write a Python script that asks the user to enter an interval of positive numbers and print all the prime numbers\n",
        "of that interval.\n",
        "\n",
        "-------------------------------------------------------------------------------\n",
        "\n",
        "https://github.com/Mr-Dipak/Python-Assignment-2\n",
        "\n",
        "\n",
        "\"\"\"\n",
        "\n",
        "def is_prime(num):\n",
        "\n",
        "    if num < 2:\n",
        "        return False\n",
        "\n",
        "    for i in range(2,int(num**0.5)+1):\n",
        "       if num % i ==0:\n",
        "           return False\n",
        "    return True\n",
        "\n",
        "start = int(input(\"Enter Starting number: \"))\n",
        "end = int(input(\"Enter Ending number: \"))\n",
        "\n",
        "\n",
        "def primenum(start, end):\n",
        "    for number in range(start, end +1):\n",
        "        if is_prime(number):\n",
        "            print(number)\n",
        "\n",
        "primenum(start,end)\n",
        "\n",
        "\n",
        "\n"
      ],
      "metadata": {
        "colab": {
          "base_uri": "https://localhost:8080/"
        },
        "id": "NUODHM6yYsTn",
        "outputId": "1c4cc062-726d-4287-a2d7-66e70f78ed4b"
      },
      "execution_count": null,
      "outputs": [
        {
          "output_type": "stream",
          "name": "stdout",
          "text": [
            "Enter Starting number: 12\n",
            "Enter Ending number: 30\n",
            "13\n",
            "17\n",
            "19\n",
            "23\n",
            "29\n"
          ]
        }
      ]
    },
    {
      "cell_type": "code",
      "source": [
        "\"\"\"\n",
        "Q 10. RockyDon Problem\n",
        "Problem Statement\n",
        "Given a positive integer number n. You need to write a Python script that iterates through 1 to n. Prints Rocky if the number is divisible by 3, print Don if the number is divisible by 5, Print “RockyDon” if the number is divisible by both 3 and 5, else it simply print the number.\n",
        "Example\n",
        "n = 10 1 2 Rocky 4 Don Rocky 7 8 Rocky Don\n",
        "\n",
        "-------------------------------------------------------------------------------\n",
        "\n",
        "https://github.com/Mr-Dipak/Python-Assignment-2\n",
        "\n",
        "\n",
        "\"\"\"\n",
        "\n",
        "def checkrockydon(i):\n",
        "    if i % 3 ==0 and i% 5 ==0:\n",
        "        return \"rockydon\"\n",
        "    elif i % 3 == 0:\n",
        "        return \"rocky\"\n",
        "    elif i % 5 ==0:\n",
        "        return \"don\"\n",
        "    else:\n",
        "        return str(i)\n",
        "\n",
        "end = int(input(\"Enter the nTh number: \"))\n",
        "def rockydon():\n",
        "    for i in range(1,end+1):\n",
        "        result = checkrockydon(i)\n",
        "        print(result,end=\" \")\n",
        "\n",
        "rockydon()"
      ],
      "metadata": {
        "colab": {
          "base_uri": "https://localhost:8080/"
        },
        "id": "hJpqEVNHY1kc",
        "outputId": "78b8f4da-c348-45b3-f3ae-9243382e4229"
      },
      "execution_count": null,
      "outputs": [
        {
          "output_type": "stream",
          "name": "stdout",
          "text": [
            "Enter the nTh number: 50\n",
            "1 2 rocky 4 don rocky 7 8 rocky don 11 rocky 13 14 rockydon 16 17 rocky 19 don rocky 22 23 rocky don 26 rocky 28 29 rockydon 31 32 rocky 34 don rocky 37 38 rocky don 41 rocky 43 44 rockydon 46 47 rocky 49 don "
          ]
        }
      ]
    },
    {
      "cell_type": "code",
      "source": [
        "\"\"\"\n",
        "Q 11. Remove first n Characters from a string\n",
        "\n",
        "Problem Statement:\n",
        "You have given a non-empty string, and a positive integer number n (less than the length of the string). You need to write a Python\n",
        "function that returns by removing the first n characters from the string.\n",
        "Example\n",
        "string = \"Hi There! Welcome to UDMS\" n = 10 Remove the first 10 characters from the string. Output: Welcome to UDMS\n",
        "-------------------------------------------------------------------------------\n",
        "\n",
        "https://github.com/Mr-Dipak/Python-Assignment-2\n",
        "\n",
        "\n",
        "\"\"\"\n",
        "n = int(input(\"Enter the number: \"))\n",
        "def removeString(input_string,n):\n",
        "    if n < len(input_string):\n",
        "        result = input_string[n:]\n",
        "        return result\n",
        "\n",
        "input_string = \"Hi There! Welcome to UDMS\"\n",
        "print(input_string)\n",
        "print(removeString(input_string,n))"
      ],
      "metadata": {
        "colab": {
          "base_uri": "https://localhost:8080/"
        },
        "id": "xf0sZctQZDB4",
        "outputId": "a6ecc4dd-7bc4-48fa-8f23-392e920e6238"
      },
      "execution_count": null,
      "outputs": [
        {
          "output_type": "stream",
          "name": "stdout",
          "text": [
            "Enter the number: 10\n",
            "Hi There! Welcome to UDMS\n",
            "Welcome to UDMS\n"
          ]
        }
      ]
    },
    {
      "cell_type": "code",
      "source": [
        "\"\"\"\n",
        "Q 12. Write a Python program that accepts a list of 10 float numbers from the user.\n",
        "Problem Statement\n",
        "You need to write a Python program that accepts 10 float numbers from the user and adds them to a list.\n",
        "Example: If user enters 10 20 30 40 50 60 70 80 90 100\n",
        "Output: [10.0, 20.0, 30.0, 40.0, 50.0, 60.0, 70.0, 80.0, 90.0, 100.00\n",
        "\n",
        "-------------------------------------------------------------------------------\n",
        "\n",
        "https://github.com/Mr-Dipak/Python-Assignment-2\n",
        "\n",
        "\n",
        "\"\"\"\n",
        "float_list = []\n",
        "for i in range(10):\n",
        "    number = float(input(f\"Enter number {i+1}: \"))\n",
        "    float_list.append(number)\n",
        "print(float_list)"
      ],
      "metadata": {
        "colab": {
          "base_uri": "https://localhost:8080/"
        },
        "id": "wAnAdgu2ZOub",
        "outputId": "72c0bb3e-05b0-4912-c2da-58e87d739af3"
      },
      "execution_count": null,
      "outputs": [
        {
          "output_type": "stream",
          "name": "stdout",
          "text": [
            "Enter number 1: 10\n",
            "Enter number 2: 20\n",
            "Enter number 3: 30\n",
            "Enter number 4: 40\n",
            "Enter number 5: 50\n",
            "Enter number 6: 60\n",
            "Enter number 7: 70\n",
            "Enter number 8: 80\n",
            "Enter number 9: 90\n",
            "Enter number 10: 100\n",
            "[10.0, 20.0, 30.0, 40.0, 50.0, 60.0, 70.0, 80.0, 90.0, 100.0]\n"
          ]
        }
      ]
    },
    {
      "cell_type": "code",
      "source": [
        "\"\"\"\n",
        "Q.13. Python program to write data of one file to another except for lines 3, 6, and 9.\n",
        "Problem statement\n",
        "You have given a file data.txt, you need to write a Python program that reads the content from data.\n",
        "txt and writes its all content to new_data.txt except the lines 3, 6, and 9.\n",
        "data.txt\tnew_data.txt\n",
        "Line 1 data Line 2 data Line 3 data Line 4 data Line 5 data Line 6 data Line 7 data Line 8 data Line 9 data Line 10 data\n",
        "Line 1 data Line 2 data Line 4 data Line 5 data Line 7 data Line 8 data Line 10 data\n",
        "\n",
        "-------------------------------------------------------------------------------\n",
        "\n",
        "https://github.com/Mr-Dipak/Python-Assignment-2\n",
        "\n",
        "\n",
        "\"\"\"\n",
        "\n",
        "with open('data.txt','r')as input_list:\n",
        "    lines = input_list.readlines()\n",
        "\n",
        "with open('new_data.txt','w') as output_list:\n",
        "    for i, line in enumerate(lines, start=1):\n",
        "        if i not in (3,6,9):\n",
        "            output_list.write(line)\n",
        "\n"
      ],
      "metadata": {
        "id": "fHDRdN0JaCtO"
      },
      "execution_count": 22,
      "outputs": []
    },
    {
      "cell_type": "code",
      "source": [
        "\"\"\"\n",
        "Q 14. Python program to print n number of the Fibonacci sequence using recursion.\n",
        "\n",
        "Problem Statement:\n",
        "\n",
        "A Fibonacci sequence is a series of integers that start from 0 and 1, and every next number is decided by the sum of the previous two numbers.\n",
        "You need to write a Python code that asks the user to enter the value n, representing the length of the sequence.\n",
        "And a recursive function to print a Fibonacci sequence of n length.\n",
        "Example\n",
        "n = 10 Output: 0 0 1 2 3 5 8 13 21 34\n",
        "\n",
        "-------------------------------------------------------------------------------\n",
        "\n",
        "https://github.com/Mr-Dipak/Python-Assignment-2\n",
        "\n",
        "\n",
        "\"\"\"\n",
        "n = int(input(\"Enter the \"))\n",
        "\n",
        "def fabonacci(n):\n",
        "    if n<=0:\n",
        "        return []\n",
        "    elif n == 1:\n",
        "        return [0]\n",
        "    elif n == 2:\n",
        "        return [0,1]\n",
        "    else:\n",
        "\n",
        "        feb_seq = fabonacci(n-1)\n",
        "        feb_seq.append(feb_seq[-1]+feb_seq[-2])\n",
        "        return feb_seq\n",
        "\n",
        "result=fabonacci(n)\n",
        "print(result)\n",
        "\n",
        ""
      ],
      "metadata": {
        "colab": {
          "base_uri": "https://localhost:8080/"
        },
        "id": "ftL-KXgNa4qH",
        "outputId": "ef53de70-cdaf-4198-a542-ffacc317c82e"
      },
      "execution_count": 23,
      "outputs": [
        {
          "output_type": "stream",
          "name": "stdout",
          "text": [
            "Enter the 5\n",
            "[0, 1, 1, 2, 3]\n"
          ]
        }
      ]
    },
    {
      "cell_type": "code",
      "source": [
        "\"\"\"\n",
        "Q 15. Python program to print the first non-repeated character from a string.\n",
        "Problem Statement: You have given a string and you need to find the first non-repeated characters.\n",
        "Example\n",
        "given_string = welcome to techgeekbuzz.com website Output l\n",
        "\n",
        "-------------------------------------------------------------------------------\n",
        "\n",
        "https://github.com/Mr-Dipak/Python-Assignment-2\n",
        "\n",
        "\n",
        "\"\"\"\n",
        "def first_non_repeated_char(input_string):\n",
        "    char_count = {}\n",
        "\n",
        "    for char in input_string:\n",
        "        if char in char_count:\n",
        "            char_count[char]+=1\n",
        "        else:\n",
        "            char_count[char] = 1\n",
        "\n",
        "\n",
        "    for char in input_string:\n",
        "        if char_count[char] == 1:\n",
        "            return char\n",
        "\n",
        "    return None\n",
        "\n",
        "\n",
        "given_string= \"welcome to techgeekbuzz.com website\"\n",
        "\n",
        "result = first_non_repeated_char(given_string)\n",
        "\n",
        "print(result)"
      ],
      "metadata": {
        "colab": {
          "base_uri": "https://localhost:8080/"
        },
        "id": "vzg4BA9Obdgx",
        "outputId": "7c262446-c46b-4a08-f809-a23fea67e93e"
      },
      "execution_count": 24,
      "outputs": [
        {
          "output_type": "stream",
          "name": "stdout",
          "text": [
            "l\n"
          ]
        }
      ]
    },
    {
      "cell_type": "code",
      "source": [
        "\"\"\"\n",
        "Q 16. Python program to count the occurrence of each item from a list.\n",
        "Problem Statement\n",
        "You have given a list with repeated items and you need to write a script that counts the occurrence of every list item.\n",
        "Example\n",
        "given_list = [10, 20, 30, 10, 30, 20, 20, 20, 40, 50] Output = {10 : 2, 20 : 4, 30: 2, 40: 1, 50: 1 }\n",
        "\n",
        "-------------------------------------------------------------------------------\n",
        "\n",
        "https://github.com/Mr-Dipak/Python-Assignment-2\n",
        "\n",
        "\"\"\"\n",
        "\n",
        "def count_occurrence(input_list):\n",
        "    item_count = {}\n",
        "\n",
        "    for item in input_list:\n",
        "        if item in item_count:\n",
        "            item_count[item] +1\n",
        "        else:\n",
        "            item_count[item] = 1\n",
        "    return item_count\n",
        "\n",
        "given_list = [10, 20, 30, 10, 30, 20, 20, 20, 40, 50]\n",
        "\n",
        "result = count_occurrence(given_list)\n",
        "\n",
        "print(result)"
      ],
      "metadata": {
        "colab": {
          "base_uri": "https://localhost:8080/"
        },
        "id": "LHXe2VoSbpso",
        "outputId": "28d4fd90-2062-4cee-8719-961d35f40a40"
      },
      "execution_count": 25,
      "outputs": [
        {
          "output_type": "stream",
          "name": "stdout",
          "text": [
            "{10: 1, 20: 1, 30: 1, 40: 1, 50: 1}\n"
          ]
        }
      ]
    },
    {
      "cell_type": "code",
      "source": [
        "\"\"\"\n",
        "Q 17. Capital indexes\n",
        "Write a function named capital_indexes. The function takes a single parameter, which is a string.\n",
        "Your function should return a list of all the indexes in the string that have capital letters.\n",
        "For example, calling capital_indexes(\"HeLlO\") should return the list [0, 2, 4].\n",
        "\n",
        "-------------------------------------------------------------------------------\n",
        "\n",
        "https://github.com/Mr-Dipak/Python-Assignment-2\n",
        "\n",
        "\n",
        "\"\"\"\n",
        "\n",
        "def capital_indexes(input_string):\n",
        "    indexes = []\n",
        "\n",
        "    for index, char in enumerate(input_string):\n",
        "        if char.isupper():\n",
        "            indexes.append(index)\n",
        "    return indexes\n",
        "\n",
        "string = \"HeLlO\"\n",
        "result = capital_indexes(string)\n",
        "print(result)"
      ],
      "metadata": {
        "colab": {
          "base_uri": "https://localhost:8080/"
        },
        "id": "3IL1slSCbt7D",
        "outputId": "91285aca-421e-41cc-99ef-1b12173631b6"
      },
      "execution_count": 26,
      "outputs": [
        {
          "output_type": "stream",
          "name": "stdout",
          "text": [
            "[0, 2, 4]\n"
          ]
        }
      ]
    },
    {
      "cell_type": "code",
      "source": [
        "\"\"\"\n",
        "Q 18. Middle letter:\n",
        "Write a function named mid that takes a string as its parameter. Your function should extract and return the middle letter.\n",
        "If there is no middle letter, your function should return the empty string.\n",
        "For example, mid(\"abc\") should return \"b\" and mid(\"aaaa\") should return \"\".\n",
        "\n",
        "-------------------------------------------------------------------------------\n",
        "\n",
        "https://github.com/Mr-Dipak/Python-Assignment-2\n",
        "\n",
        "\n",
        "\"\"\"\n",
        "\n",
        "def mid(input_string):\n",
        "    length = len(input_string)\n",
        "\n",
        "\n",
        "    if length % 2 == 1:\n",
        "        mid_index = length // 2\n",
        "        return input_string[mid_index]\n",
        "    else:\n",
        "        return (\"\")\n",
        "\n",
        "string = \"abc\"\n",
        "result1 = mid(string)\n",
        "\n",
        "string2 = \"aaaa\"\n",
        "result2 = mid(string2)\n",
        "\n",
        "print(\"First Example of odd String result is: \", result1, \" Secnong even String result is: \",result2)\n",
        "\n",
        "\n",
        ""
      ],
      "metadata": {
        "colab": {
          "base_uri": "https://localhost:8080/"
        },
        "id": "HJZJ2uOMbxKt",
        "outputId": "bd697e6b-371b-44c4-c8f4-11d66a3ecc00"
      },
      "execution_count": 27,
      "outputs": [
        {
          "output_type": "stream",
          "name": "stdout",
          "text": [
            "First Example of odd String result is:  b  Secnong even String result is:  \n"
          ]
        }
      ]
    },
    {
      "cell_type": "code",
      "source": [
        "\"\"\"\n",
        "Q 19. Online status\n",
        "The aim of this challenge is, given a dictionary of people's online status, to count the number of people who are online.\n",
        "For example, consider the following dictionary:\n",
        "statuses = {\n",
        "    \"Alice\": \"online\",\n",
        "    \"Bob\": \"offline\",\n",
        "    \"Eve\": \"online\",\n",
        "}\n",
        "In this case, the number of people online is 2.\n",
        "Write a function named online_count that takes one parameter.\n",
        "The parameter is a dictionary that maps from strings of names to the string \"online\" or \"offline\", as seen above.\n",
        "Your function should return the number of people who are online.\n",
        "\n",
        "-------------------------------------------------------------------------------\n",
        "\n",
        "https://github.com/Mr-Dipak/Python-Assignment-2\n",
        "\n",
        "\n",
        "\"\"\"\n",
        "def online_status(statuses):\n",
        "    count = 0\n",
        "    for name,status in statuses.items():\n",
        "        if status == \"online\":\n",
        "            count += 1\n",
        "    return count\n",
        "\n",
        "\n",
        "\n",
        "\n",
        "\n",
        "statuses = {\"Alice\": \"online\",\"Bob\": \"offline\",\"Eve\": \"online\",\n",
        "}\n",
        "\n",
        "\n",
        "print(online_status(statuses))"
      ],
      "metadata": {
        "colab": {
          "base_uri": "https://localhost:8080/"
        },
        "id": "kIZHCCy5b19V",
        "outputId": "fcfe03a6-1aae-41f0-8ef5-fa271769c590"
      },
      "execution_count": 28,
      "outputs": [
        {
          "output_type": "stream",
          "name": "stdout",
          "text": [
            "2\n"
          ]
        }
      ]
    },
    {
      "cell_type": "code",
      "source": [
        "\"\"\"\n",
        "Q 21. Adding and removing dots\n",
        "Write a function named add_dots that takes a string and adds \".\" in between each letter. For example, calling add_dots(\"test\") should return the string \"t.e.s.t\".\n",
        "Then, below the add_dots function, write another function named remove_dots that removes all dots from a string. For example, calling remove_dots(\"t.e.s.t\") should return \"test\".\n",
        "If both functions are correct, calling remove_dots(add_dots(string)) should return back the original string for any string.\n",
        "(You may assume that the input to add_dots does not itself contain any dots.)\n",
        "\n",
        "-------------------------------------------------------------------------------\n",
        "\n",
        "https://github.com/Mr-Dipak/Python-Assignment-2\n",
        "\n",
        "\n",
        "\"\"\"\n",
        "\n",
        "def add_dots(input_string):\n",
        "    dotted_str = '.'.join(input_string)\n",
        "    return dotted_str\n",
        "\n",
        "def remove_dots(input_string):\n",
        "    undotted_str = input_string.replace('.','')\n",
        "    return undotted_str\n",
        "\n",
        "str = \"test\"\n",
        "dotted_result = add_dots(str)\n",
        "undotted_result = remove_dots(dotted_result)\n",
        "\n",
        "print(f\"this is a origional string: {str}\")\n",
        "print(f\"this is a dotted result: {dotted_result}\")\n",
        "print(f\"this is a undotted_result: {undotted_result}\")\n"
      ],
      "metadata": {
        "colab": {
          "base_uri": "https://localhost:8080/"
        },
        "id": "UqddSpdUb6R4",
        "outputId": "a6d96194-5a2d-4d48-fa1e-adf3c0cb23ff"
      },
      "execution_count": 29,
      "outputs": [
        {
          "output_type": "stream",
          "name": "stdout",
          "text": [
            "this is a origional string: test\n",
            "this is a dotted result: t.e.s.t\n",
            "this is a undotted_result: test\n"
          ]
        }
      ]
    },
    {
      "cell_type": "code",
      "source": [],
      "metadata": {
        "id": "GKgayn3ab_U8"
      },
      "execution_count": 30,
      "outputs": []
    }
  ]
}